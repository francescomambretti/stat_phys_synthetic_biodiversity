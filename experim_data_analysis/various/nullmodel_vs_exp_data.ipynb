{
 "cells": [
  {
   "cell_type": "markdown",
   "metadata": {},
   "source": [
    "### Compare theoretical (null) model for the distribution of the Maximum Consecutive Overlap $\\omega$ with experimental data"
   ]
  },
  {
   "cell_type": "code",
   "execution_count": 15,
   "metadata": {},
   "outputs": [],
   "source": [
    "import numpy as np\n",
    "import scipy as sp\n",
    "from scipy import stats\n",
    "from scipy.special import binom\n",
    "import matplotlib.pyplot as plt\n",
    "from random import choices"
   ]
  },
  {
   "cell_type": "code",
   "execution_count": 16,
   "metadata": {},
   "outputs": [],
   "source": [
    "l=20 #resource length\n",
    "L=50 #predator length\n",
    "bases=4"
   ]
  },
  {
   "cell_type": "code",
   "execution_count": 17,
   "metadata": {},
   "outputs": [],
   "source": [
    "def my_binom (a,b): #adapted binomial coefficient\n",
    "    if (a<0 or a<b):\n",
    "        return 0\n",
    "    else:\n",
    "        return binom(a,b)"
   ]
  },
  {
   "cell_type": "code",
   "execution_count": 18,
   "metadata": {},
   "outputs": [],
   "source": [
    "def n1_part (d,a):\n",
    "    list1=np.empty(0)\n",
    "    list2=np.empty(0)\n",
    "    for r in range (1,d+2):\n",
    "        list1=np.append( list1, (np.power(-1,r))*(my_binom(d+1,r))*(my_binom(l-r*(a+1),d)) )\n",
    "        list2=np.append( list2, (np.power(-1,r))*(my_binom(d+1,r))*(my_binom(l-r*a,d)) )\n",
    "    return np.sum(list1)-np.sum(list2)"
   ]
  },
  {
   "cell_type": "code",
   "execution_count": 19,
   "metadata": {},
   "outputs": [],
   "source": [
    "def n1 (a):\n",
    "    list3=np.empty(0)\n",
    "    for d in range (0,l+1):\n",
    "        list3=np.append(list3, ((bases-1)**d) * n1_part(d,a))\n",
    "    return (L-l+1)*(bases**(L-l))*(np.sum(list3))"
   ]
  },
  {
   "cell_type": "code",
   "execution_count": 20,
   "metadata": {},
   "outputs": [],
   "source": [
    "def n2_part (d,a,p):\n",
    "    list1=np.empty(0)\n",
    "    list2=np.empty(0)\n",
    "    for r in range (1,d+2):\n",
    "        list1=np.append( list1, np.power(-1,r)*(my_binom(d+1,r))*(my_binom(l+p-r*(a+1),d)) )\n",
    "        list2=np.append( list2, np.power(-1,r)*(my_binom(d+1,r))*(my_binom(l+p-r*a,d)) )\n",
    "    return np.sum(list1)-np.sum(list2)"
   ]
  },
  {
   "cell_type": "code",
   "execution_count": 21,
   "metadata": {},
   "outputs": [],
   "source": [
    "def n2(a):  \n",
    "    list4=np.empty(0)\n",
    "    for p in range (-l+1,0):\n",
    "        list3=np.empty(0)\n",
    "        for d in range (0,l+p+1):\n",
    "            list3=np.append(list3, ((bases-1)**d) * n2_part(d,a,p))\n",
    "        list4=np.append(list4, ((bases**(L-l-p))*np.sum(list3)))\n",
    "            \n",
    "    return np.sum(list4)"
   ]
  },
  {
   "cell_type": "code",
   "execution_count": 22,
   "metadata": {},
   "outputs": [],
   "source": [
    "def n3_part (d,a,p):\n",
    "    list1=np.empty(0)\n",
    "    list2=np.empty(0)\n",
    "    for r in range (1,d+2):\n",
    "        list1=np.append( list1, np.power(-1,r)*(my_binom(d+1,r))*(my_binom(L-p-r*(a+1),d)) )\n",
    "        list2=np.append( list2, np.power(-1,r)*(my_binom(d+1,r))*(my_binom(L-p-r*a,d)) )\n",
    "    return np.sum(list1)-np.sum(list2)"
   ]
  },
  {
   "cell_type": "code",
   "execution_count": 23,
   "metadata": {},
   "outputs": [],
   "source": [
    "def n3(a):  \n",
    "    list4=np.empty(0)\n",
    "    for p in range (L-l+1,L):\n",
    "        list3=np.empty(0)\n",
    "        for d in range (0,L-p+1):\n",
    "            list3=np.append(list3, np.power(bases-1,d) * n3_part(d,a,p))\n",
    "        list4=np.append(list4, (bases**(p))*(np.sum(list3)))\n",
    "            \n",
    "    return np.sum(list4)"
   ]
  },
  {
   "cell_type": "code",
   "execution_count": 24,
   "metadata": {},
   "outputs": [
    {
     "name": "stdout",
     "output_type": "stream",
     "text": [
      "[8.80135924e-02 4.24678903e-01 3.45390075e-01 1.07492525e-01\n",
      " 2.64134238e-02 6.16871555e-03 1.42151431e-03 3.25497463e-04\n",
      " 7.41232921e-05 1.67791256e-05 3.77236933e-06 8.41375710e-07\n",
      " 1.85886587e-07 4.06002653e-08 8.74295939e-09 1.84914772e-09\n",
      " 3.81935050e-10 7.63448306e-11 1.45387341e-11 2.55713003e-12\n",
      " 4.08613562e-13]\n",
      "0.9999999999999998\n"
     ]
    }
   ],
   "source": [
    "#compute pi(a) - exact formula\n",
    "\n",
    "appo=0\n",
    "#appo_b=0\n",
    "norm=0\n",
    "pi_dist=np.zeros(l+1)\n",
    "#distrib_b=distrib\n",
    "\n",
    "#compute normalization\n",
    "for a in range (0,l+1):\n",
    "    norm+=n1(a)+n2(a)+n3(a)\n",
    "\n",
    "for a in range (0,l+1):\n",
    "    appo=(n1(a)+n2(a)+n3(a))/((bases**L)*(L+l-1))\n",
    "#    appo_b=(n1(a)+n2(a)+n3(a))/norm #should be equivalent\n",
    "    pi_dist[a]=appo\n",
    "#    distrib_b[a]=appo\n",
    "print(pi_dist)\n",
    "print(np.sum(pi_dist))\n",
    "#print(distrib_b)\n",
    "#print(np.sum(distrib_b)"
   ]
  },
  {
   "cell_type": "code",
   "execution_count": 25,
   "metadata": {
    "tags": []
   },
   "outputs": [],
   "source": [
    "# compute pi'(a) - exact formula\n",
    "appo=0\n",
    "norm=0\n",
    "T=4\n",
    "pi_pr_dist=np.zeros(l+1)\n",
    "\n",
    "for a in range (T,l+1):\n",
    "    norm+=pi_dist[a]\n",
    "\n",
    "for a in range (T,l+1):\n",
    "    pi_pr_dist[a]=(pi_dist[a]*(np.sign(a-T+1)))/norm\n",
    "\n",
    "#print(pi_pr_dist,norm)\n",
    "#print(np.sum(pi_pr_dist))"
   ]
  },
  {
   "cell_type": "code",
   "execution_count": 33,
   "metadata": {},
   "outputs": [
    {
     "name": "stdout",
     "output_type": "stream",
     "text": [
      "700836.0\n"
     ]
    }
   ],
   "source": [
    "#load experimental histogram of species abundance for comparison\n",
    "path_to_folders=\"/Users/francescomambretti/Documents/Work/Synthetic_biodiversity_statistical_physics/experim_data/results_all\"\n",
    "path_to_histo_omega=\"/negative/R1_all_key_filter/min_Q_10/1_R6_negative_R1/\"\n",
    "path_to_histo_omega2=\"/oligo1_proto06/R1_all_key_filter/min_Q_10/2_R6_06_R1/\"\n",
    "\n",
    "histo_omega_experim=np.loadtxt(path_to_folders+path_to_histo_omega+\"/histo_omega_all.txt\",usecols=(0,),unpack=True)\n",
    "histo_omega_experim2=np.loadtxt(path_to_folders+path_to_histo_omega2+\"/histo_omega_all.txt\",usecols=(0,),unpack=True)\n",
    "Ns=np.sum(histo_omega_experim) #population size\n",
    "print(Ns)"
   ]
  },
  {
   "cell_type": "code",
   "execution_count": 34,
   "metadata": {},
   "outputs": [
    {
     "name": "stdout",
     "output_type": "stream",
     "text": [
      " 0, 0.000, 0.000\n",
      " 1, 0.000, 0.000\n",
      " 2, 0.000, 0.000\n",
      " 3, 0.000, 0.000\n",
      " 4, 537735.060, 353.756\n",
      " 5, 125585.182, 321.063\n",
      " 6, 28939.758, 166.568\n",
      " 7, 6626.608, 81.018\n",
      " 8, 1509.032, 38.804\n",
      " 9, 341.596, 18.478\n",
      " 10, 76.799, 8.763\n",
      " 11, 17.129, 4.139\n",
      " 12, 3.784, 1.945\n",
      " 13, 0.827, 0.909\n",
      " 14, 0.178, 0.422\n",
      " 15, 0.038, 0.194\n",
      " 16, 0.008, 0.088\n",
      " 17, 0.002, 0.039\n",
      " 18, 0.000, 0.017\n",
      " 19, 0.000, 0.007\n",
      " 20, 0.000, 0.003\n"
     ]
    }
   ],
   "source": [
    "mean_null=pi_pr_dist*Ns\n",
    "err_null=np.sqrt(Ns*pi_pr_dist*(1-pi_pr_dist))\n",
    "i=0\n",
    "\n",
    "for el,err_el in zip(mean_null,err_null):\n",
    "    print (\" %d, %.3f, %.3f\" % (i, el, err_el))\n",
    "    i+=1"
   ]
  },
  {
   "cell_type": "code",
   "execution_count": 37,
   "metadata": {},
   "outputs": [
    {
     "data": {
      "image/png": "[encoded data removed]",
      "text/plain": [
       "<Figure size 576x576 with 1 Axes>"
      ]
     },
     "metadata": {
      "needs_background": "light"
     },
     "output_type": "display_data"
    }
   ],
   "source": [
    "plt.rcParams['figure.figsize'] = [8, 8]\n",
    "\n",
    "plt.bar(range(0,l+1),pi_pr_dist*Ns,color='orangered',edgecolor='black',\n",
    "        alpha=1.0,label='null model + constraint - $\\pi^{\\prime}(a)$',width=0.9)\n",
    "plt.errorbar(range(0,l+1),pi_pr_dist*Ns,markersize=8,yerr=3*err_null,capsize=5,color='black',linestyle='none')\n",
    "plt.bar(range(T,l+2),histo_omega_experim[T:],color='gold',edgecolor='black',\n",
    "        alpha=0.9,label='experim. - negative - cycle 6',width=0.7)\n",
    "plt.bar(range(T,l+2),histo_omega_experim2[T:],color='green',edgecolor='black',\n",
    "        alpha=0.7,label='experim. - oligo 1 - cycle 6 ',width=0.35)\n",
    "\n",
    "plt.xticks(np.arange(0,l+1,1),fontsize=14)\n",
    "plt.yticks(fontsize=14)\n",
    "\n",
    "plt.xlabel(\"$\\omega$\", fontsize=13)\n",
    "plt.ylabel(\"Number of individuals\", fontsize=14)\n",
    "\n",
    "plt.yscale('log')\n",
    "name='negative'\n",
    "plt.title(name)\n",
    "\n",
    "plt.legend(fontsize=12)\n",
    "plt.show()\n",
    "#plt.savefig(name+'.png',dpi=300)"
   ]
  },
  {
   "cell_type": "code",
   "execution_count": null,
   "metadata": {},
   "outputs": [],
   "source": []
  },
  {
   "cell_type": "code",
   "execution_count": null,
   "metadata": {},
   "outputs": [],
   "source": []
  }
 ],
 "metadata": {
  "kernelspec": {
   "display_name": "Python 3",
   "language": "python",
   "name": "python3"
  },
  "language_info": {
   "codemirror_mode": {
    "name": "ipython",
    "version": 3
   },
   "file_extension": ".py",
   "mimetype": "text/x-python",
   "name": "python",
   "nbconvert_exporter": "python",
   "pygments_lexer": "ipython3",
   "version": "3.6.13"
  }
 },
 "nbformat": 4,
 "nbformat_minor": 4
}
